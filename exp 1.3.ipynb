{
 "cells": [
  {
   "cell_type": "code",
   "execution_count": null,
   "id": "ed13ebbf",
   "metadata": {},
   "outputs": [],
   "source": [
    "def findarea(radius):\n",
    "    pi = 22/7\n",
    "    area_of_circles = pi * radius * radius\n",
    "    print(\"The area of circle is \",area_of_circles)\n",
    "for i in range(1,11):\n",
    "    r = int(input(\"enter Radius of circle : \"))\n",
    "    findarea(r)\n"
   ]
  },
  {
   "cell_type": "code",
   "execution_count": null,
   "id": "3126a63e",
   "metadata": {},
   "outputs": [],
   "source": [
    "def print_table(num): \n",
    "    for i in range(1,11): \n",
    "        print(num,' x ', i, ' = ',num*i) \n",
    "for i in range(2,21):\n",
    "    n = int(input(\"Please Enter a number to print its multiplication table:\"))\n",
    "    print_table(n)"
   ]
  }
 ],
 "metadata": {
  "kernelspec": {
   "display_name": "Python 3 (ipykernel)",
   "language": "python",
   "name": "python3"
  },
  "language_info": {
   "codemirror_mode": {
    "name": "ipython",
    "version": 3
   },
   "file_extension": ".py",
   "mimetype": "text/x-python",
   "name": "python",
   "nbconvert_exporter": "python",
   "pygments_lexer": "ipython3",
   "version": "3.10.2"
  }
 },
 "nbformat": 4,
 "nbformat_minor": 5
}

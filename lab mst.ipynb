{
 "cells": [
  {
   "cell_type": "code",
   "execution_count": 9,
   "id": "b1752b1f",
   "metadata": {},
   "outputs": [
    {
     "name": "stdout",
     "output_type": "stream",
     "text": [
      "Enter Gender:male\n",
      "Enter Age: 35\n",
      "Enter Taxable Income:1125689\n",
      "159137.8\n"
     ]
    }
   ],
   "source": [
    "gender=input(\"Enter Gender:\")\n",
    "age=int(input(\"Enter Age: \"))\n",
    "taxIncome=int(input(\"Enter Taxable Income:\"))\n",
    "\n",
    "if (age>65 or gender==\"female\"):\n",
    "    print(\"Wrong Category\");\n",
    "    \n",
    "if (taxIncome <= 160000):\n",
    "        tax = 0;\n",
    "        print(tax)\n",
    "elif (taxIncome <= 500000):\n",
    "                tax = (taxIncome - 160000) * 10 / 100;\n",
    "                print(tax)\n",
    "elif (taxIncome <= 800000):\n",
    "                tax = 34000 + ((taxIncome - 500000) * 20 / 100);\n",
    "                print(tax)\n",
    "else:\n",
    "                tax = 94000 + ((taxIncome - 800000) * 30 / 100);\n",
    "                print(tax)"
   ]
  },
  {
   "cell_type": "code",
   "execution_count": 1,
   "id": "b24068d1",
   "metadata": {},
   "outputs": [
    {
     "name": "stdout",
     "output_type": "stream",
     "text": [
      "69500.0\n"
     ]
    }
   ],
   "source": [
    "pan = int(input(\"Enter PAN Number: \"))\n",
    "name = input(\"Enter your Name: \")\n",
    "taxIncome=int(input(\"Enter Taxable Income:\"))\n",
    "\n",
    "def taxCalc(taxIncome):\n",
    "    if (taxIncome <= 60000):\n",
    "        tax = 0;\n",
    "        print(tax)\n",
    "    elif (taxIncome <= 150000 and taxIncome > 60000):\n",
    "                tax = (taxIncome - 60000) * 5 / 100;\n",
    "                print(tax)\n",
    "    elif (taxIncome <= 500000 and taxIncome > 150000):\n",
    "                tax = 4500 + (taxIncome - 150000) * 10 / 100;\n",
    "                print(tax)\n",
    "    else:\n",
    "                tax = 39500 + (taxIncome - 500000) * 15 / 100;\n",
    "                print(tax)\n",
    "    \n",
    "taxCalc(taxIncome)    "
   ]
  }
 ],
 "metadata": {
  "kernelspec": {
   "display_name": "Python 3 (ipykernel)",
   "language": "python",
   "name": "python3"
  },
  "language_info": {
   "codemirror_mode": {
    "name": "ipython",
    "version": 3
   },
   "file_extension": ".py",
   "mimetype": "text/x-python",
   "name": "python",
   "nbconvert_exporter": "python",
   "pygments_lexer": "ipython3",
   "version": "3.10.2"
  }
 },
 "nbformat": 4,
 "nbformat_minor": 5
}

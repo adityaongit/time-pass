{
 "cells": [
  {
   "cell_type": "code",
   "execution_count": 4,
   "id": "aeec3b89",
   "metadata": {},
   "outputs": [
    {
     "name": "stdout",
     "output_type": "stream",
     "text": [
      "Enter first number: 5\n",
      "Enter second number: 5\n",
      "Addition of 5 and 5 is 10.0 \n",
      "Subtraction of 5 and 5 is 0.0 \n",
      "Multiplication of 5 and 5 is 25.0 \n",
      "Division of 5 and 5 is 1.0 \n"
     ]
    }
   ],
   "source": [
    "num1 = input('Enter first number: ')\n",
    "num2 = input('Enter second number: ')\n",
    "\n",
    "add = float(num1) + float(num2)\n",
    "sub = float(num1) - float(num2)\n",
    "mul = float(num1) * float(num2)\n",
    "div = float(num1) / float(num2)\n",
    "\n",
    "print(f\"Addition of {num1} and {num2} is {add} \")\n",
    "print(f\"Subtraction of {num1} and {num2} is {sub} \")\n",
    "print(f\"Multiplication of {num1} and {num2} is {mul} \")\n",
    "print(f\"Division of {num1} and {num2} is {div} \")"
   ]
  },
  {
   "cell_type": "code",
   "execution_count": 6,
   "id": "7e03ef06",
   "metadata": {},
   "outputs": [
    {
     "name": "stdout",
     "output_type": "stream",
     "text": [
      "Please enter English Marks: 99\n",
      "Please enter Math Marks: 99\n",
      "Please enter Computer Marks: 99\n",
      "Please enter Physics Marks: 99\n",
      "Please enter Chemistry Marks: 99\n",
      "Total Marks = 495.0\n",
      "Average Marks = 99.0\n",
      "Marks Percentage = 99.0\n"
     ]
    }
   ],
   "source": [
    "english = float(input(\"Please enter English Marks: \"))\n",
    "math = float(input(\"Please enter Math Marks: \"))\n",
    "computers = float(input(\"Please enter Computer Marks: \"))\n",
    "physics = float(input(\"Please enter Physics Marks: \"))\n",
    "chemistry = float(input(\"Please enter Chemistry Marks: \"))\n",
    "\n",
    "total = english + math + computers +  physics + chemistry\n",
    "average = total / 5\n",
    "percentage = (total / 500) * 100\n",
    "\n",
    "print(f\"Total Marks = {total}\" )\n",
    "print(f\"Average Marks = {average}\" )\n",
    "print(f\"Marks Percentage = {percentage}\" )"
   ]
  },
  {
   "cell_type": "code",
   "execution_count": 7,
   "id": "29111886",
   "metadata": {},
   "outputs": [
    {
     "name": "stdout",
     "output_type": "stream",
     "text": [
      "Enter length (cm)  : 50000\n",
      "Length in meter is 500.0 m\n",
      "Length in kilometer is 0.5 km\n"
     ]
    }
   ],
   "source": [
    "cm = float(input(\"Enter length (cm)  : \"))\n",
    "\n",
    "m = cm/100\n",
    "km = cm/100000\n",
    "\n",
    "print(f\"Length in meter is {m} m\")\n",
    "print(f\"Length in kilometer is {km} km\")"
   ]
  },
  {
   "cell_type": "code",
   "execution_count": 8,
   "id": "416c22ea",
   "metadata": {},
   "outputs": [
    {
     "name": "stdout",
     "output_type": "stream",
     "text": [
      "The value of a and b is 10 , 2\n",
      "a + b =  12\n",
      "a - b =  8\n",
      "a * b =  20\n",
      "a * b =  20\n",
      "a / b =  5.0\n",
      "a // b =  5\n"
     ]
    }
   ],
   "source": [
    "# Arithmetic Opeartors\n",
    "a = 10\n",
    "b = 2\n",
    "print(\"The value of a and b is\",a , \",\", b)\n",
    "print(\"a + b = \", a+b) # 12\n",
    "print(\"a - b = \", a-b) # 8\n",
    "print(\"a * b = \", a*b) # 20\n",
    "print(\"a * b = \", a*b) # 100\n",
    "print(\"a / b = \", a/b)   # 5.0\n",
    "print(\"a // b = \", a//b) # 5"
   ]
  },
  {
   "cell_type": "code",
   "execution_count": 9,
   "id": "dec0ce96",
   "metadata": {},
   "outputs": [
    {
     "name": "stdout",
     "output_type": "stream",
     "text": [
      "10 == 10 is True\n",
      "10 == 2 is False\n",
      "10 >= 2 is True\n",
      "10 != 2 is True\n"
     ]
    }
   ],
   "source": [
    "# Comparison Opeartor\n",
    "a = 10\n",
    "b = 2\n",
    "print(a, \"== 10 is\", a==10)\n",
    "print(a, \"==\", b, \"is\", a==b)\n",
    "print(a, \">=\", b, \"is\", a>=b)\n",
    "print(a, \"!=\", b, \"is\", a!=b)"
   ]
  },
  {
   "cell_type": "code",
   "execution_count": 10,
   "id": "84b1d2e7",
   "metadata": {},
   "outputs": [
    {
     "name": "stdout",
     "output_type": "stream",
     "text": [
      "x and y False\n",
      "x or y True\n",
      "not x False\n"
     ]
    }
   ],
   "source": [
    "# Logical Operators\n",
    "x = True\n",
    "y = False\n",
    "print(\"x and y\", x and y)\n",
    "print(\"x or y\", x or y)\n",
    "print(\"not x\", not x)"
   ]
  },
  {
   "cell_type": "code",
   "execution_count": 11,
   "id": "25477459",
   "metadata": {},
   "outputs": [
    {
     "name": "stdout",
     "output_type": "stream",
     "text": [
      "True\n",
      "False\n",
      "True\n",
      "False\n",
      "False\n"
     ]
    }
   ],
   "source": [
    "# Membership Operators\n",
    "x = 'Name: Deepakshi'\n",
    "y = {1: 'd', 2: 's'}\n",
    "print('D' in x)\n",
    "print('name' in x)\n",
    "print('Name' in x)\n",
    "print(1 not in y)\n",
    "print('d' in y)"
   ]
  },
  {
   "cell_type": "code",
   "execution_count": 12,
   "id": "640dcf97",
   "metadata": {},
   "outputs": [
    {
     "name": "stdout",
     "output_type": "stream",
     "text": [
      "True\n",
      "False\n",
      "False\n"
     ]
    }
   ],
   "source": [
    "# Identity Operator\n",
    "x1 = 24\n",
    "x2 = 24\n",
    "y1 = 'Hey'\n",
    "y2 = 'Hey'\n",
    "z1 = [1,2,3]\n",
    "z2 = [1,2,3]\n",
    "\n",
    "print(x1 is x2)\n",
    "print(y1 is not y2)\n",
    "print(z1 is z2)"
   ]
  }
 ],
 "metadata": {
  "kernelspec": {
   "display_name": "Python 3 (ipykernel)",
   "language": "python",
   "name": "python3"
  },
  "language_info": {
   "codemirror_mode": {
    "name": "ipython",
    "version": 3
   },
   "file_extension": ".py",
   "mimetype": "text/x-python",
   "name": "python",
   "nbconvert_exporter": "python",
   "pygments_lexer": "ipython3",
   "version": "3.10.2"
  }
 },
 "nbformat": 4,
 "nbformat_minor": 5
}

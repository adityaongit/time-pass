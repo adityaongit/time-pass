{
 "cells": [
  {
   "cell_type": "code",
   "execution_count": 1,
   "id": "359235d0",
   "metadata": {},
   "outputs": [
    {
     "name": "stdout",
     "output_type": "stream",
     "text": [
      "The sorted is:\n",
      "[(2, 1), (3, 2), (1, 3)]\n"
     ]
    }
   ],
   "source": [
    "def Sort_Tuple(tup):\n",
    "\n",
    "    lst = len(tup)\n",
    "    for i in range(0, lst):\n",
    "\n",
    "        for j in range(0, lst-i-1):\n",
    "            if (tup[j][-1] > tup[j + 1][-1]):\n",
    "                temp = tup[j]\n",
    "                tup[j] = tup[j + 1]\n",
    "                tup[j + 1] = temp\n",
    "    return tup\n",
    "\n",
    "\n",
    "tup = [(1, 3), (3, 2), (2, 1)]\n",
    "print(\"The sorted is:\")\n",
    "print(Sort_Tuple(tup))\n"
   ]
  },
  {
   "cell_type": "code",
   "execution_count": 2,
   "id": "fdb1d05f",
   "metadata": {},
   "outputs": [
    {
     "name": "stdout",
     "output_type": "stream",
     "text": [
      "This code is made By Aditya_20BCS7545\n",
      "Enter the length of the list:: 6\n",
      "Enter the values in list:: red\n",
      "Enter the values in list:: green\n",
      "Enter the values in list:: white\n",
      "Enter the values in list:: black\n",
      "Enter the values in list:: pink\n",
      "Enter the values in list:: yellow\n",
      "Now we are going to remove 0, 4 and 5 position from list\n",
      "['green', 'white', 'black']\n"
     ]
    }
   ],
   "source": [
    "print(\"This code is made By Aditya_20BCS7545\")\n",
    "x = []\n",
    "q = int(input(\"Enter the length of the list:: \"))\n",
    "for i in range(q):\n",
    "    e = input(\"Enter the values in list:: \")\n",
    "    x.append(e)\n",
    "print(\"Now we are going to remove 0, 4 and 5 position from list\")\n",
    "x.pop(0)\n",
    "x.pop(3)\n",
    "x.pop(3)\n",
    "print(x)\n"
   ]
  }
 ],
 "metadata": {
  "kernelspec": {
   "display_name": "Python 3 (ipykernel)",
   "language": "python",
   "name": "python3"
  },
  "language_info": {
   "codemirror_mode": {
    "name": "ipython",
    "version": 3
   },
   "file_extension": ".py",
   "mimetype": "text/x-python",
   "name": "python",
   "nbconvert_exporter": "python",
   "pygments_lexer": "ipython3",
   "version": "3.10.2"
  }
 },
 "nbformat": 4,
 "nbformat_minor": 5
}

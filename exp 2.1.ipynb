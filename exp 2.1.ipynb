{
 "cells": [
  {
   "cell_type": "code",
   "execution_count": 5,
   "id": "1c1a9caa",
   "metadata": {},
   "outputs": [
    {
     "name": "stdout",
     "output_type": "stream",
     "text": [
      "enter the String:aabbaa\n",
      "This string is palindrome\n"
     ]
    }
   ],
   "source": [
    "x=input(\"enter the String:\")\n",
    "l=len(x)\n",
    "mid=int(l/2)\n",
    "rev=-1\n",
    "for i in range(mid):\n",
    "    if(x[i]==x[rev]):\n",
    "        rev=rev-1\n",
    "    else:\n",
    "        print(\"This string is Not palindrome\")\n",
    "        break\n",
    "else:\n",
    "        print(\"This string is palindrome\")"
   ]
  },
  {
   "cell_type": "code",
   "execution_count": 8,
   "id": "0dd96078",
   "metadata": {},
   "outputs": [
    {
     "name": "stdout",
     "output_type": "stream",
     "text": [
      "Enter first string : Hello \n",
      "Enter second string : World\n",
      "['Hello']\n",
      "['World']\n",
      "All uncommon words from both the string are   Hello World\n"
     ]
    }
   ],
   "source": [
    "str1 = input('Enter first string : ')\n",
    "str2 = input('Enter second string : ')\n",
    "str1List = str1.split()\n",
    "str2List = str2.split()\n",
    "print(str1List)\n",
    "print(str2List)\n",
    "uncommonWords = ''\n",
    "for words in str1List:\n",
    "    if words not in str2List:\n",
    "        uncommonWords = uncommonWords+\" \"+words\n",
    "for words in str2List:\n",
    "    if words not in str1List:\n",
    "        uncommonWords = uncommonWords+\" \"+words\n",
    "print(\"All uncommon words from both the string are \", uncommonWords)\n"
   ]
  },
  {
   "cell_type": "code",
   "execution_count": 13,
   "id": "8f3ae921",
   "metadata": {},
   "outputs": [
    {
     "name": "stdout",
     "output_type": "stream",
     "text": [
      "Enter The String:Boo\n",
      "Booing\n"
     ]
    }
   ],
   "source": [
    "str1=input(\"Enter The String:\")\n",
    "length = len(str1)\n",
    "if length > 2:\n",
    "    if str1[-3:] == 'ing':\n",
    "        str1 += 'ly'\n",
    "    else:\n",
    "        str1 += 'ing'\n",
    "print(str1)"
   ]
  }
 ],
 "metadata": {
  "kernelspec": {
   "display_name": "Python 3 (ipykernel)",
   "language": "python",
   "name": "python3"
  },
  "language_info": {
   "codemirror_mode": {
    "name": "ipython",
    "version": 3
   },
   "file_extension": ".py",
   "mimetype": "text/x-python",
   "name": "python",
   "nbconvert_exporter": "python",
   "pygments_lexer": "ipython3",
   "version": "3.10.2"
  }
 },
 "nbformat": 4,
 "nbformat_minor": 5
}

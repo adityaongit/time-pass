{
 "cells": [
  {
   "cell_type": "code",
   "execution_count": 3,
   "id": "7dbebeb3",
   "metadata": {},
   "outputs": [
    {
     "name": "stdout",
     "output_type": "stream",
     "text": [
      "Enter a number: 131\n",
      "Palindrome!!\n"
     ]
    }
   ],
   "source": [
    "num = int(input(\"Enter a number: \"))\n",
    "temp = num\n",
    "rev = 0\n",
    "while(num>0):\n",
    "    dig = num%10\n",
    "    rev = rev * 10 + dig\n",
    "    num = num//10\n",
    "if(temp==rev):\n",
    "    print(\"Palindrome!!\")\n",
    "else:\n",
    "    print(\"Not Palindrome!!\")"
   ]
  },
  {
   "cell_type": "code",
   "execution_count": 4,
   "id": "33eb60af",
   "metadata": {},
   "outputs": [
    {
     "name": "stdout",
     "output_type": "stream",
     "text": [
      "Enter a number: 333\n",
      "333 is not an Armstrong number\n"
     ]
    }
   ],
   "source": [
    "num = int(input(\"Enter a number: \"))\n",
    "temp = num\n",
    "sum = 0\n",
    "while temp > 0:\n",
    "    dig = temp%10\n",
    "    sum = sum + dig ** 3\n",
    "    temp = temp // 10\n",
    "if num == sum:\n",
    "    print(num,\"is an Armstrong number\")\n",
    "else:\n",
    "    print(num,\"is not an Armstrong number\")"
   ]
  },
  {
   "cell_type": "code",
   "execution_count": 5,
   "id": "4c1d5f55",
   "metadata": {},
   "outputs": [
    {
     "name": "stdout",
     "output_type": "stream",
     "text": [
      "Enter the first number: 23\n",
      "Enter the second number: 2\n",
      "Enter the third number: 44\n",
      "44 is greatest number\n"
     ]
    }
   ],
   "source": [
    "n1 = int(input(\"Enter the first number: \"))\n",
    "n2 = int(input(\"Enter the second number: \"))\n",
    "n3 = int(input(\"Enter the third number: \"))\n",
    "if(n1>n2):\n",
    "    if(n1>n3):\n",
    "        print(n1, \"is greatest number\")\n",
    "    else:\n",
    "        print(n3, \"is greatest number\")\n",
    "else:\n",
    "    print(n2, \"is greatest number\")"
   ]
  }
 ],
 "metadata": {
  "kernelspec": {
   "display_name": "Python 3 (ipykernel)",
   "language": "python",
   "name": "python3"
  },
  "language_info": {
   "codemirror_mode": {
    "name": "ipython",
    "version": 3
   },
   "file_extension": ".py",
   "mimetype": "text/x-python",
   "name": "python",
   "nbconvert_exporter": "python",
   "pygments_lexer": "ipython3",
   "version": "3.10.2"
  }
 },
 "nbformat": 4,
 "nbformat_minor": 5
}
